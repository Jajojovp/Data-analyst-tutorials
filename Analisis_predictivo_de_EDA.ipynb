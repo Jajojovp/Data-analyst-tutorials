{
  "nbformat": 4,
  "nbformat_minor": 0,
  "metadata": {
    "colab": {
      "provenance": [],
      "authorship_tag": "ABX9TyPTblmSfREM3mWt9Q615yAO",
      "include_colab_link": true
    },
    "kernelspec": {
      "name": "python3",
      "display_name": "Python 3"
    },
    "language_info": {
      "name": "python"
    }
  },
  "cells": [
    {
      "cell_type": "markdown",
      "metadata": {
        "id": "view-in-github",
        "colab_type": "text"
      },
      "source": [
        "<a href=\"https://colab.research.google.com/github/jajovp/Data-analyst-tutorials/blob/main/Analisis_predictivo_de_EDA.ipynb\" target=\"_parent\"><img src=\"https://colab.research.google.com/assets/colab-badge.svg\" alt=\"Open In Colab\"/></a>"
      ]
    },
    {
      "cell_type": "code",
      "execution_count": 1,
      "metadata": {
        "id": "sfwaLN6_jJCC"
      },
      "outputs": [],
      "source": [
        "import pandas as pd\n",
        "import numpy as np\n",
        "import matplotlib.pyplot as plt\n",
        "from sklearn.model_selection import train_test_split\n",
        "from sklearn.preprocessing import StandardScaler, LabelEncoder\n",
        "from sklearn.ensemble import RandomForestRegressor\n",
        "from sklearn.metrics import mean_squared_error, r2_score"
      ]
    },
    {
      "cell_type": "code",
      "source": [
        "# Carga de datos\n",
        "df = pd.read_csv(\"data.csv\")"
      ],
      "metadata": {
        "id": "AIvRIvKKjSn0"
      },
      "execution_count": 2,
      "outputs": []
    },
    {
      "cell_type": "code",
      "source": [
        "# Preprocesamiento y limpieza de datos\n",
        "# Eliminar columnas irrelevantes\n",
        "df.drop(['Engine Fuel Type', 'Market Category', 'Vehicle Style', 'Popularity', 'Number of Doors', 'Vehicle Size'], axis=1, inplace=True)\n"
      ],
      "metadata": {
        "id": "i0xTZV19jSkq"
      },
      "execution_count": 3,
      "outputs": []
    },
    {
      "cell_type": "code",
      "source": [
        "\n",
        "# Eliminar filas duplicadas\n",
        "df.drop_duplicates(keep='first', inplace=True)"
      ],
      "metadata": {
        "id": "q9cEMIrFjShw"
      },
      "execution_count": 4,
      "outputs": []
    },
    {
      "cell_type": "code",
      "source": [
        "# Eliminar filas con valores nulos\n",
        "df.dropna(axis=0, inplace=True)"
      ],
      "metadata": {
        "id": "LonSzu3xjSfP"
      },
      "execution_count": 5,
      "outputs": []
    },
    {
      "cell_type": "code",
      "source": [
        "# Codificación de variables categóricas\n",
        "encoder = LabelEncoder()\n",
        "df['Make'] = encoder.fit_transform(df['Make'])\n",
        "df['Model'] = encoder.fit_transform(df['Model'])\n",
        "df['Transmission Type'] = encoder.fit_transform(df['Transmission Type'])\n",
        "df['Driven_Wheels'] = encoder.fit_transform(df['Driven_Wheels'])"
      ],
      "metadata": {
        "id": "Xg1DA9HLjSdC"
      },
      "execution_count": 6,
      "outputs": []
    },
    {
      "cell_type": "code",
      "source": [
        "# Separación de características y variable objetivo\n",
        "X = df.drop('MSRP', axis=1)\n",
        "y = df['MSRP']"
      ],
      "metadata": {
        "id": "A-RPdqQZjSaq"
      },
      "execution_count": 7,
      "outputs": []
    },
    {
      "cell_type": "code",
      "source": [
        "# Escalado de características\n",
        "scaler = StandardScaler()\n",
        "X = scaler.fit_transform(X)\n"
      ],
      "metadata": {
        "id": "VF-30NHwjSYP"
      },
      "execution_count": 8,
      "outputs": []
    },
    {
      "cell_type": "code",
      "source": [
        "# Entrenamiento y evaluación del modelo con diferentes proporciones de entrenamiento y prueba\n",
        "train_sizes = [0.6, 0.7, 0.8, 0.9]\n",
        "r2_scores = []\n",
        "\n",
        "for size in train_sizes:\n",
        "    X_train, X_test, y_train, y_test = train_test_split(X, y, train_size=size, random_state=42)\n",
        "    \n",
        "    # Entrenamiento del modelo\n",
        "    model = RandomForestRegressor(n_estimators=100, random_state=42)\n",
        "    model.fit(X_train, y_train)\n",
        "    \n",
        "    # Evaluación del modelo\n",
        "    y_pred = model.predict(X_test)\n",
        "    mse = mean_squared_error(y_test, y_pred)\n",
        "    r2 = r2_score(y_test, y_pred)\n",
        "    r2_scores.append(r2)\n",
        "    print(f\"Proporción de entrenamiento: {size}, MSE: {mse}, R2: {r2}\")\n"
      ],
      "metadata": {
        "colab": {
          "base_uri": "https://localhost:8080/"
        },
        "id": "bwWd1uxajSVr",
        "outputId": "f4aad08d-ccdf-4c36-9d53-71631eb3d3fb"
      },
      "execution_count": 9,
      "outputs": [
        {
          "output_type": "stream",
          "name": "stdout",
          "text": [
            "Proporción de entrenamiento: 0.6, MSE: 452556283.86061364, R2: 0.8922209269395254\n",
            "Proporción de entrenamiento: 0.7, MSE: 452666564.9106745, R2: 0.9050874339600397\n",
            "Proporción de entrenamiento: 0.8, MSE: 248492055.0855349, R2: 0.9462915441875126\n",
            "Proporción de entrenamiento: 0.9, MSE: 90121905.78037265, R2: 0.9637682932780037\n"
          ]
        }
      ]
    },
    {
      "cell_type": "code",
      "source": [
        "# Gráfica de resultados\n",
        "plt.plot(train_sizes, r2_scores)\n",
        "plt.xlabel('Proporción de entrenamiento')\n",
        "plt.ylabel('R2 Score')\n",
        "plt.title('R2 Score vs Proporción de entrenamiento')\n",
        "plt.show()"
      ],
      "metadata": {
        "colab": {
          "base_uri": "https://localhost:8080/",
          "height": 296
        },
        "id": "kqTvuO7ejSTK",
        "outputId": "df5a75a8-5d58-47e5-defd-87dfaf60d933"
      },
      "execution_count": 10,
      "outputs": [
        {
          "output_type": "display_data",
          "data": {
            "text/plain": [
              "<Figure size 432x288 with 1 Axes>"
            ],
            "image/png": "[encoded data removed]"
          },
          "metadata": {
            "needs_background": "light"
          }
        }
      ]
    }
  ]
}